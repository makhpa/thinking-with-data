{
 "cells": [
  {
   "cell_type": "code",
   "execution_count": 12,
   "metadata": {},
   "outputs": [
    {
     "name": "stdout",
     "output_type": "stream",
     "text": [
      "{'Harry': 'Exceeds Expectations', 'Ron': 'Acceptable', 'Hermione': 'Outstanding', 'Draco': 'Acceptable', 'Neville': 'Fail'}\n"
     ]
    }
   ],
   "source": [
    "student_scores = {\n",
    "  \"Harry\": 81,\n",
    "  \"Ron\": 78,\n",
    "  \"Hermione\": 99, \n",
    "  \"Draco\": 74,\n",
    "  \"Neville\": 62,\n",
    "}\n",
    "# 🚨 Don't change the code above 👆\n",
    "\n",
    "#TODO-1: Create an empty dictionary called student_grades.\n",
    "\n",
    "student_grades = {\"Outstanding\" : (91, 100),\n",
    "\n",
    "\"Exceeds Expectations\" : (81, 90),\n",
    "\n",
    "\"Acceptable\" : (71 - 80),\n",
    "\n",
    "\"Fail\" : (0, 70),}\n",
    "\n",
    "student_grades = {}\n",
    "\n",
    "#TODO-2: Write your code below to covert scores into grades.👇\n",
    "for student in student_scores:\n",
    "  score = student_scores[student]\n",
    "  if score > 90:\n",
    "    student_grades[student] = \"Outstanding\"\n",
    "  elif score > 80:\n",
    "    student_grades[student] = \"Exceeds Expectations\"\n",
    "  elif score > 70:\n",
    "    student_grades[student] = \"Acceptable\"\n",
    "  else:\n",
    "    student_grades[student] = \"Fail\"\n",
    "  \n",
    "\n",
    "# 🚨 Don't change the code below 👇\n",
    "print(student_grades)"
   ]
  },
  {
   "cell_type": "code",
   "execution_count": 8,
   "metadata": {},
   "outputs": [
    {
     "name": "stdout",
     "output_type": "stream",
     "text": [
      "Alice scored 85 and got a grade of B\n",
      "Bob scored 98 and got a grade of A\n",
      "Charlie scored 62 and got a grade of D\n"
     ]
    }
   ],
   "source": [
    "def calculate_grade(score, grading_scale):\n",
    "  \"\"\"\n",
    "  This function takes a score and a grading scale dictionary and returns the corresponding letter grade.\n",
    "  \"\"\"\n",
    "  for grade, grade_range in grading_scale.items():\n",
    "    if score >= grade_range[0] and score <= grade_range[1]:\n",
    "      return grade\n",
    "  return \"F\"  # Return F for scores outside the grading scale\n",
    "\n",
    "# Example grading scale (you can adjust the ranges and grades as needed)\n",
    "grading_scale = {\n",
    "  \"A\": (90, 100),\n",
    "  \"B\": (80, 89),\n",
    "  \"C\": (70, 79),\n",
    "  \"D\": (60, 69),\n",
    "}\n",
    "\n",
    "# Example student scores (replace with your actual data)\n",
    "student_scores = {\n",
    "  \"Alice\": 85,\n",
    "  \"Bob\": 98,\n",
    "  \"Charlie\": 62,\n",
    "}\n",
    "\n",
    "for name, score in student_scores.items():\n",
    "  grade = calculate_grade(score, grading_scale)\n",
    "  print(f\"{name} scored {score} and got a grade of {grade}\")\n"
   ]
  }
 ],
 "metadata": {
  "kernelspec": {
   "display_name": "Python 3",
   "language": "python",
   "name": "python3"
  },
  "language_info": {
   "codemirror_mode": {
    "name": "ipython",
    "version": 3
   },
   "file_extension": ".py",
   "mimetype": "text/x-python",
   "name": "python",
   "nbconvert_exporter": "python",
   "pygments_lexer": "ipython3",
   "version": "3.11.9"
  }
 },
 "nbformat": 4,
 "nbformat_minor": 2
}
