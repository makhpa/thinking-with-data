{
 "cells": [
  {
   "cell_type": "code",
   "execution_count": null,
   "metadata": {},
   "outputs": [],
   "source": [
    "def turnright():\n",
    "    turn_left()\n",
    "    turn_left()\n",
    "    turn_left()\n",
    "  \n",
    "def lap():\n",
    "   move()\n",
    "   turn_left()\n",
    "   move()\n",
    "   turnright()\n",
    "   move()\n",
    "   turnright()\n",
    "   move()\n",
    "   turn_left()\n",
    "for i in range(6):\n",
    "    lap()"
   ]
  }
 ],
 "metadata": {
  "language_info": {
   "name": "python"
  }
 },
 "nbformat": 4,
 "nbformat_minor": 2
}
