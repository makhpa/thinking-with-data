{
  "cells": [
    {
      "cell_type": "markdown",
      "metadata": {
        "id": "view-in-github",
        "colab_type": "text"
      },
      "source": [
        "<a href=\"https://colab.research.google.com/github/makhpa/thinking-with-data/blob/main/user_input_1.ipynb\" target=\"_parent\"><img src=\"https://colab.research.google.com/assets/colab-badge.svg\" alt=\"Open In Colab\"/></a>"
      ]
    },
    {
      "cell_type": "code",
      "execution_count": null,
      "metadata": {
        "id": "Tt32poaDBwyL",
        "outputId": "676a4643-e36b-416d-c30a-4701d0e14ee4"
      },
      "outputs": [
        {
          "name": "stdout",
          "output_type": "stream",
          "text": [
            "54\n"
          ]
        }
      ],
      "source": [
        "x = input(\"Enter 1st number\")\n",
        "y = input(\"Enter 2nd Number\")\n",
        "z = x+y\n",
        "print(z)\n",
        "\n",
        "#However, there is a mistake in this code. The input() function in Python returns a string value by default. Therefore, when the user enters a number, it is stored as a string in the variables x and y. When the code tries to add x and y together, it concatenates the two strings instead of adding the two numbers. To fix this mistake,\n",
        "#we need to convert the string values in x and y to integers or floats before adding them together."
      ]
    },
    {
      "cell_type": "code",
      "execution_count": null,
      "metadata": {
        "id": "80c0XrpLBwyQ",
        "outputId": "82179f73-f1c9-42cb-c258-bc8cd3ab5959"
      },
      "outputs": [
        {
          "name": "stdout",
          "output_type": "stream",
          "text": [
            "9\n"
          ]
        }
      ],
      "source": [
        "x = int(input(\"Enter 1st number\"))\n",
        "y = int(input(\"Enter 2nd Number\"))\n",
        "z = x + y\n",
        "print(z)"
      ]
    },
    {
      "cell_type": "code",
      "execution_count": null,
      "metadata": {
        "id": "u9yeLTpxBwyR",
        "outputId": "3633244d-5600-493a-ccca-36d33e7110cd"
      },
      "outputs": [
        {
          "name": "stdout",
          "output_type": "stream",
          "text": [
            "parth\n",
            "p\n"
          ]
        }
      ],
      "source": [
        "ch = input(\"enter a char\")\n",
        "print(ch)\n",
        "print(ch[0])"
      ]
    },
    {
      "cell_type": "code",
      "execution_count": null,
      "metadata": {
        "id": "BViM6jkUBwyS",
        "outputId": "2debe905-a099-4853-e5a5-e37d3f5074c0"
      },
      "outputs": [
        {
          "name": "stdout",
          "output_type": "stream",
          "text": [
            "p\n"
          ]
        }
      ],
      "source": [
        "ch = input(\"enter a char\")[0]\n",
        "print(ch)\n"
      ]
    },
    {
      "cell_type": "code",
      "execution_count": null,
      "metadata": {
        "id": "9eiQgwebBwyT",
        "outputId": "5e8e619a-b194-450b-c1ad-191e45822687"
      },
      "outputs": [
        {
          "name": "stdout",
          "output_type": "stream",
          "text": [
            "2\n"
          ]
        }
      ],
      "source": [
        "ch = input(\"enter a char\")\n",
        "print(ch)"
      ]
    },
    {
      "cell_type": "code",
      "execution_count": null,
      "metadata": {
        "id": "0_mBcV2TBwyU",
        "outputId": "dcaf03a2-7246-48d8-b67d-3095290cfa34"
      },
      "outputs": [
        {
          "name": "stdout",
          "output_type": "stream",
          "text": [
            "7\n"
          ]
        }
      ],
      "source": [
        "ch = eval(input(\"enter a char\")) #2+6-1\n",
        "print(ch)"
      ]
    }
  ],
  "metadata": {
    "kernelspec": {
      "display_name": "Python 3",
      "language": "python",
      "name": "python3"
    },
    "language_info": {
      "codemirror_mode": {
        "name": "ipython",
        "version": 3
      },
      "file_extension": ".py",
      "mimetype": "text/x-python",
      "name": "python",
      "nbconvert_exporter": "python",
      "pygments_lexer": "ipython3",
      "version": "3.11.7"
    },
    "colab": {
      "provenance": [],
      "include_colab_link": true
    }
  },
  "nbformat": 4,
  "nbformat_minor": 0
}