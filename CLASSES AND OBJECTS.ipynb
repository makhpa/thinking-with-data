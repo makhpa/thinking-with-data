{
 "cells": [
  {
   "cell_type": "markdown",
   "metadata": {},
   "source": [
    "CLASSES"
   ]
  },
  {
   "cell_type": "code",
   "execution_count": null,
   "metadata": {},
   "outputs": [],
   "source": [
    "#In Python, classes and objects are fundamental concepts of object-oriented programming (OOP). \n",
    "#They provide a way to structure and organize code, promoting modularity, reusability, and maintainability. Let's delve into the concepts of classes and objects:\n",
    "#Definition: A class is a blueprint or template for creating objects. It defines the attributes and behaviors that the objects created from the class will have."
   ]
  },
  {
   "cell_type": "code",
   "execution_count": 1,
   "metadata": {},
   "outputs": [
    {
     "name": "stdout",
     "output_type": "stream",
     "text": [
      "Fido says Woof!\n"
     ]
    }
   ],
   "source": [
    "\n",
    "class Dog:\n",
    "    def __init__(self, name, age):\n",
    "        self.name = name\n",
    "        self.age = age\n",
    "\n",
    "    def bark(self):\n",
    "        print(f\"{self.name} says Woof!\")\n",
    "\n",
    "#This code defines a class called Dog in Python. A class is a blueprint for creating objects in object-oriented programming. this case, the Dog class is a blueprint for dog objects.\n",
    "\n",
    "#The __init__ method is a special method in Python classes that is called when an object is created from the class. The __init__ method in this Dog class takes two arguments, name and age, which are used to initialize the attributes of the dog object. The self parameter is a reference to the object itself and is used to access its attributes and methods.\n",
    "\n",
    "#The bark method is a regular method in the Dog class that makes the dog object bark. It takes no arguments and prints a message to the console indicating which dog is barking.\n",
    "\n",
    "#The __init__ method is a special method in Python classes that is called when an object is created. It initializes the object's attributes.\n",
    "        \n",
    "#When a Dog object is created, the __init__ method is automatically called, and it sets the name and age attributes.\n"
   ]
  },
  {
   "cell_type": "markdown",
   "metadata": {},
   "source": [
    "OBJECTS\n"
   ]
  },
  {
   "cell_type": "code",
   "execution_count": 3,
   "metadata": {},
   "outputs": [
    {
     "name": "stdout",
     "output_type": "stream",
     "text": [
      "Buddy\n",
      "Buddy says Woof!\n",
      "Fido says Woof!\n"
     ]
    }
   ],
   "source": [
    "#Definition: An object is an instance of a class. It is a concrete realization of the attributes and behaviors specified by the class.\n",
    "\n",
    "my_dog = Dog(name=\"Buddy\", age=3)\n",
    "print(my_dog.name)  # Accessing attribute\n",
    "my_dog.bark()  # Calling method\n",
    "#Here, my_dog is an object created from the Dog class. You can access its attributes (name, age) and call its methods (bark).\n",
    "\n",
    "my_dog1 = Dog(\"Fido\", 3)\n",
    "my_dog1.bark()  # prints \"Fido says Woof!\""
   ]
  },
  {
   "cell_type": "code",
   "execution_count": 4,
   "metadata": {},
   "outputs": [],
   "source": [
    "#Instance and Class Attributes:\n",
    "#Instance attributes are specific to each instance of the class (each object).\n",
    "#Class attributes are shared among all instances of the class.\n",
    "\n",
    "class Dog:\n",
    "    species = \"Canine\"  # Class attribute\n",
    "\n",
    "    def __init__(self, name, age):\n",
    "        self.name = name  # Instance attribute\n",
    "        self.age = age\n"
   ]
  },
  {
   "cell_type": "code",
   "execution_count": 5,
   "metadata": {},
   "outputs": [
    {
     "name": "stdout",
     "output_type": "stream",
     "text": [
      "Whiskers says Meow!\n",
      "Buddy says Woof!\n"
     ]
    }
   ],
   "source": [
    "#Encapsulation, Inheritance, and Polymorphism:\n",
    "#Encapsulation: Bundling the data (attributes) and the methods that operate on the data within a single unit (class).\n",
    "#Inheritance: A mechanism where a class inherits attributes and methods from another class.\n",
    "#Polymorphism: The ability of different classes to be used interchangeably.\n",
    "#These principles, along with encapsulation, inheritance, and polymorphism, make up the core concepts of object-oriented programming.\n",
    "\n",
    "class Animal:\n",
    "    def __init__(self, name):\n",
    "        self.name = name\n",
    "\n",
    "    def make_sound(self):\n",
    "        pass  # Abstract method\n",
    "\n",
    "class Cat(Animal):\n",
    "    def make_sound(self):\n",
    "        print(f\"{self.name} says Meow!\")\n",
    "\n",
    "class Dog(Animal):\n",
    "    def make_sound(self):\n",
    "        print(f\"{self.name} says Woof!\")\n",
    "\n",
    "my_cat = Cat(name=\"Whiskers\")\n",
    "my_dog = Dog(name=\"Buddy\")\n",
    "\n",
    "my_cat.make_sound()  # Outputs: Whiskers says Meow!\n",
    "my_dog.make_sound()  # Outputs: Buddy says Woof!\n"
   ]
  }
 ],
 "metadata": {
  "kernelspec": {
   "display_name": "Python 3",
   "language": "python",
   "name": "python3"
  },
  "language_info": {
   "codemirror_mode": {
    "name": "ipython",
    "version": 3
   },
   "file_extension": ".py",
   "mimetype": "text/x-python",
   "name": "python",
   "nbconvert_exporter": "python",
   "pygments_lexer": "ipython3",
   "version": "3.11.8"
  }
 },
 "nbformat": 4,
 "nbformat_minor": 2
}
