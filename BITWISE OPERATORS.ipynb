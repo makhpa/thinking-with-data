{
 "cells": [
  {
   "cell_type": "code",
   "execution_count": 15,
   "metadata": {},
   "outputs": [
    {
     "name": "stdout",
     "output_type": "stream",
     "text": [
      "Original value: 5\n",
      "Complement result: -6\n"
     ]
    }
   ],
   "source": [
    "#BIT WISE OPERATOR\n",
    "\n",
    "#Complemet Operator\n",
    "~125\n",
    "\n",
    "#complemet of a number is the negative of the same number added by 1\n",
    "\n",
    "x = 5  # Binary representation: 0b101\n",
    "\n",
    "# Using the complement operator\n",
    "complement_result = ~x\n",
    "\n",
    "print(f\"Original value: {x}\")\n",
    "print(f\"Complement result: {complement_result}\")\n",
    "\n",
    "#Applying the complement operator (~x) flips the bits, resulting in -6 in two's complement representation.\n",
    "#Keep in mind that the complement operation affects all the bits, including the sign bit in the case of signed integers. The result is often interpreted in the context of the underlying binary representation (two's complement for signed integers).\n",
    "#The complement operator is primarily used in bitwise operations and low-level manipulation of binary data. It's less commonly used in high-level programming due to its bitwise nature and the fact that Python provides other operators and functions for more straightforward tasks.\n",
    "\n",
    "\n"
   ]
  },
  {
   "cell_type": "code",
   "execution_count": 18,
   "metadata": {},
   "outputs": [
    {
     "name": "stdout",
     "output_type": "stream",
     "text": [
      "Operand a: 0b101\n",
      "Operand b: 0b11\n",
      "Bitwise AND result: 0b1\n",
      "Bitwise AND result: 1\n"
     ]
    }
   ],
   "source": [
    "#BITWISE - AND\n",
    "12 & 13\n",
    "\n",
    "#The bitwise AND operator in Python is denoted by the ampersand (&). It performs a bitwise AND operation between the corresponding bits of two integers. The result is a new integer where each bit is set to 1 only if the corresponding bits in both operands are 1.\n",
    "\n",
    "#Here's a brief explanation and an example: Bitwise AND Operation:\n",
    "#If both bits are 1, the result is 1.\n",
    "#If any bit is 0, the result is 0.\n",
    "\n",
    "# Example operands\n",
    "a = 5  # Binary: 0b0101\n",
    "b = 3  # Binary: 0b0011\n",
    "\n",
    "# Bitwise AND operation\n",
    "result = a & b\n",
    "\n",
    "print(f\"Operand a: {bin(a)}\")\n",
    "print(f\"Operand b: {bin(b)}\")\n",
    "print(f\"Bitwise AND result: {bin(result)}\")\n",
    "print(f\"Bitwise AND result: {result}\")\n",
    "\n",
    "#   0101   (a)\n",
    "# & 0011   (b)\n",
    "#   ----\n",
    "#   0001   (Result)\n",
    "#Bitwise AND operators are commonly used for tasks such as bitmasking, checking the presence of specific bits, or isolating certain\n",
    "#bits in binary representations. Keep in mind that bitwise operations are performed at the binary level and can be particularly useful in low-level programming and tasks involving binary data manipulation.\n",
    "\n",
    "\n",
    "\n",
    "\n",
    "\n",
    "\n",
    "\n",
    "\n"
   ]
  },
  {
   "cell_type": "code",
   "execution_count": 19,
   "metadata": {},
   "outputs": [
    {
     "name": "stdout",
     "output_type": "stream",
     "text": [
      "Operand a: 0b101\n",
      "Operand b: 0b11\n",
      "Bitwise OR result: 0b111\n"
     ]
    }
   ],
   "source": [
    "#The bitwise OR operator in Python is denoted by the vertical bar (|). It performs a bitwise OR operation between the corresponding \n",
    "#bits of two integers. The result is a new integer where each bit is set to 1 if at least one of the corresponding bits in the operands is 1.\n",
    "\n",
    "#Here's a brief explanation and an example: Bitwise OR Operation:\n",
    "#If at least one bit is 1, the result is 1.\n",
    "#If both bits are 0, the result is 0.\n",
    "\n",
    "# Example operands\n",
    "a = 5  # Binary: 0b0101\n",
    "b = 3  # Binary: 0b0011\n",
    "\n",
    "# Bitwise OR operation\n",
    "result = a | b\n",
    "\n",
    "print(f\"Operand a: {bin(a)}\")\n",
    "print(f\"Operand b: {bin(b)}\")\n",
    "print(f\"Bitwise OR result: {bin(result)}\")\n",
    "\n",
    "#   0101   (a)\n",
    "# | 0011   (b)\n",
    "#   ----\n",
    "#   0111   (Result)\n",
    "\n",
    "#Bitwise OR operators are commonly used for tasks such as setting specific bits in a bitmask, combining flags or options, or performing other operations where the goal is to include the set bits from multiple operands. \n",
    "#Just like other bitwise operations, the bitwise OR is particularly useful in low-level programming and tasks involving binary data manipulation."
   ]
  },
  {
   "cell_type": "code",
   "execution_count": null,
   "metadata": {},
   "outputs": [],
   "source": [
    "#XOR\n",
    "\n",
    "#The bitwise XOR (exclusive OR) operator in Python is denoted by the caret (^). It performs a bitwise XOR operation between the corresponding bits of two integers. The result is a new integer where each bit is set to 1 if the corresponding bits in the operands are different.\n",
    "\n",
    "#Here's a brief explanation and an example:\n",
    "\n",
    "#Bitwise XOR Operation:\n",
    "#If the bits are different, the result is 1.\n",
    "#If the bits are the same, the result is 0.\n",
    "\n",
    "# Example operands\n",
    "a = 5  # Binary: 0b0101\n",
    "b = 3  # Binary: 0b0011\n",
    "\n",
    "# Bitwise XOR operation\n",
    "result = a ^ b\n",
    "\n",
    "print(f\"Operand a: {bin(a)}\")\n",
    "print(f\"Operand b: {bin(b)}\")\n",
    "print(f\"Bitwise XOR result: {bin(result)}\")\n",
    "\n",
    "#   0101   (a)\n",
    "# ^ 0011   (b)\n",
    "#   ----\n",
    "#   0110   (Result)\n",
    "\n",
    "#Bitwise XOR operators are commonly used for tasks such as toggling specific bits, implementing simple forms of encryption or error \n",
    "#checking, and other operations where the goal is to detect differences or create variations between binary representations. \n",
    "#Like other bitwise operations, the bitwise XOR is particularly useful in low-level programming and tasks involving binary data manipulation.\n",
    "\n",
    "\n",
    "\n",
    "\n",
    "\n",
    "\n"
   ]
  },
  {
   "cell_type": "code",
   "execution_count": 21,
   "metadata": {},
   "outputs": [
    {
     "name": "stdout",
     "output_type": "stream",
     "text": [
      "Original number: 0b101\n",
      "Left shifted by 2: 0b10100\n",
      "Original number: 5\n",
      "Left shifted by 2: 20\n"
     ]
    }
   ],
   "source": [
    "#LEFT SHIFT AND RIGHT SHIFT\n",
    "\n",
    "#In Python, the bitwise left shift (<<) and right shift (>>) operators are used to shift the bits of an integer to the left or right, respectively. These operations can be used to multiply or divide an integer by powers of 2.\n",
    "\n",
    "#Bitwise Left Shift (<<):\n",
    "#The bitwise left shift operator shifts the bits of a binary representation to the left by a specified number of positions. \n",
    "#The vacant positions on the right are filled with zeros. The left shift operation is equivalent to multiplying the integer by 2 raised to the power of the specified shift value.\n",
    "\n",
    "# Original integer\n",
    "original_number = 5  # Binary: 0b0101\n",
    "\n",
    "# Left shift by 2 positions\n",
    "shifted_number = original_number << 2\n",
    "\n",
    "print(f\"Original number: {bin(original_number)}\")\n",
    "print(f\"Left shifted by 2: {bin(shifted_number)}\")\n",
    "print(f\"Original number: {(original_number)}\")\n",
    "print(f\"Left shifted by 2: {(shifted_number)}\")\n",
    "\n",
    "#The original binary representation is 0101 (decimal 5).\n",
    "#Left shifting by 2 positions results in 10100 (decimal 20).\n",
    "\n",
    "\n"
   ]
  },
  {
   "cell_type": "code",
   "execution_count": 22,
   "metadata": {},
   "outputs": [
    {
     "name": "stdout",
     "output_type": "stream",
     "text": [
      "Original number: 0b10000\n",
      "Right shifted by 2: 0b100\n",
      "Original number: 16\n",
      "Left shifted by 2: 4\n"
     ]
    }
   ],
   "source": [
    "#Bitwise Right Shift (>>):\n",
    "#The bitwise right shift operator shifts the bits of a binary representation to the right by a specified number of positions. \n",
    "#The vacant positions on the left are filled with the sign bit (0 for positive numbers, 1 for negative numbers) for signed integers or with zeros for unsigned integers. \n",
    "#The right shift operation is equivalent to dividing the integer by 2 raised to the power of the specified shift value.\n",
    "\n",
    "# Original integer\n",
    "original_number = 16  # Binary: 0b10000\n",
    "\n",
    "# Right shift by 2 positions\n",
    "shifted_number = original_number >> 2\n",
    "\n",
    "print(f\"Original number: {bin(original_number)}\")\n",
    "print(f\"Right shifted by 2: {bin(shifted_number)}\")\n",
    "print(f\"Original number: {(original_number)}\")\n",
    "print(f\"Left shifted by 2: {(shifted_number)}\")\n",
    "\n",
    "#These bitwise shift operations are often used in low-level programming, optimization, and situations where bit-level manipulation is required. \n",
    "#It's important to note that the actual behavior may depend on the Python implementation and whether the integers are signed or unsigned. The examples above assume signed integers."
   ]
  }
 ],
 "metadata": {
  "kernelspec": {
   "display_name": "Python 3",
   "language": "python",
   "name": "python3"
  },
  "language_info": {
   "codemirror_mode": {
    "name": "ipython",
    "version": 3
   },
   "file_extension": ".py",
   "mimetype": "text/x-python",
   "name": "python",
   "nbconvert_exporter": "python",
   "pygments_lexer": "ipython3",
   "version": "3.11.7"
  }
 },
 "nbformat": 4,
 "nbformat_minor": 2
}
