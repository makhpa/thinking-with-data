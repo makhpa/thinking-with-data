{
 "cells": [
  {
   "cell_type": "code",
   "execution_count": null,
   "metadata": {},
   "outputs": [],
   "source": [
    "def turnright():\n",
    "    turn_left()\n",
    "    turn_left()\n",
    "    turn_left()\n",
    "  \n",
    "def lap():\n",
    "   turn_left()\n",
    "   while wall_on_right():\n",
    "       move()\n",
    "   turnright()\n",
    "   move()\n",
    "   turnright()\n",
    "   while not wall_in_front():\n",
    "       move()\n",
    "   turn_left()\n",
    "    \n",
    "while not at_goal():\n",
    "   if front_is_clear():\n",
    "    move()\n",
    "   else:\n",
    "    lap()"
   ]
  }
 ],
 "metadata": {
  "language_info": {
   "name": "python"
  }
 },
 "nbformat": 4,
 "nbformat_minor": 2
}
