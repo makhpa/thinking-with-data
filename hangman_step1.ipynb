{
 "cells": [
  {
   "cell_type": "code",
   "execution_count": 1,
   "metadata": {},
   "outputs": [
    {
     "name": "stdout",
     "output_type": "stream",
     "text": [
      "The randomly chosen word is:  camel\n",
      "['_', '_', '_', '_', '_']\n",
      "['_', '_', '_', '_', '_']\n",
      "Wrong\n",
      "Wrong\n",
      "Wrong\n",
      "Wrong\n",
      "Wrong\n",
      "['_', '_', '_', '_', '_']\n"
     ]
    }
   ],
   "source": [
    "word_list = [\"aardvark\", \"baboon\", \"camel\"]\n",
    "import random\n",
    "#TODO-1 - Randomly choose a word from the word_list and assign it to a variable called chosen_word.\n",
    "choosen_word = random.choice(word_list)\n",
    "print(\"The randomly chosen word is: \", choosen_word)\n",
    "\n",
    "#TODO-1: - Create an empty List called display.\n",
    "#For each letter in the chosen_word, add a \"_\" to 'display'.\n",
    "#So if the chosen_word was \"apple\", display should be [\"_\", \"_\", \"_\", \"_\", \"_\"] with 5 \"_\" representing each letter to guess.\n",
    "display  = []\n",
    "for i in  range(len(choosen_word)):\n",
    "    display+= \"_\"\n",
    "print(display)    # print(\"Adding _ to display   \n",
    "\n",
    "#TODO-2 - Ask the user to guess a letter and assign their answer to a variable called guess. Make guess lowercase.\n",
    "guess = str(input(\"Please enter the Letter:\")).lower()\n",
    "\n",
    "#TODO-2: - Loop through each position in the chosen_word;\n",
    "#If the letter at that position matches 'guess' then reveal that letter in the display at that position.\n",
    "#e.g. If the user guessed \"p\" and the chosen word was \"apple\", then display should be [\"_\", \"p\", \"p\", \"_\", \"_\"].\n",
    "\n",
    "for i in range(len(choosen_word)):\n",
    "     if guess == choosen_word[i]:\n",
    "         display [i] = guess\n",
    "print(display)\n",
    "#TODO-3 - Check if the letter the user guessed (guess) is one of the letters in the chosen_word.\n",
    "for  char in choosen_word:\n",
    "            if char == guess :\n",
    "                print (\"Right!\")\n",
    "            else:  \n",
    "                print(\"Wrong\")     \n",
    "\n",
    "#TODO-3: - Print 'display' and you should see the guessed letter in the correct position and every other letter replace with \"_\".\n",
    "#Hint - Don't worry about getting the user to guess the next letter. We'll tackle that in step 3.\n",
    "print(display)\n"
   ]
  }
 ],
 "metadata": {
  "kernelspec": {
   "display_name": "Python 3",
   "language": "python",
   "name": "python3"
  },
  "language_info": {
   "codemirror_mode": {
    "name": "ipython",
    "version": 3
   },
   "file_extension": ".py",
   "mimetype": "text/x-python",
   "name": "python",
   "nbconvert_exporter": "python",
   "pygments_lexer": "ipython3",
   "version": "3.11.9"
  }
 },
 "nbformat": 4,
 "nbformat_minor": 2
}
