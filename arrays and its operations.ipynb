{
 "cells": [
  {
   "cell_type": "code",
   "execution_count": 21,
   "metadata": {},
   "outputs": [
    {
     "name": "stdout",
     "output_type": "stream",
     "text": [
      "int32\n",
      "[ 0.  1.  2.  3.  4.  5.  6.  7.  8.  9. 10. 11. 12. 13. 14. 15.]\n",
      "[ 1  3  5  7  9 11 13]\n",
      "[1 1 1 1 1]\n",
      "[1. 1. 1. 1. 1.]\n",
      "[0 0 0 0 0]\n",
      "[5 5 5 5 5]\n",
      "[2. 3. 4. 5. 6.]\n",
      "[1.41421356 1.73205081 2.         2.23606798 2.44948974]\n",
      "20.0\n",
      "2.0\n",
      "6.0\n",
      "[2. 3. 4. 5. 6.]\n",
      "[2. 3. 4. 5. 6.]\n",
      "2580470218064\n",
      "2580470218064\n",
      "2580470217104\n",
      "[2. 5. 4. 5. 6.] [2. 5. 4. 5. 6.]\n",
      "2580469449520\n",
      "[2. 5. 4. 5. 6.] [2. 6. 4. 5. 6.]\n"
     ]
    }
   ],
   "source": [
    "from numpy import *\n",
    "arr=array([1,2,3,4,5])\n",
    "print(arr.dtype)\n",
    "\n",
    "arr1=linspace(0,15,16)\n",
    "print(arr1)\n",
    "\n",
    "arr2 = arange(1,15,2)\n",
    "print(arr2)\n",
    "\n",
    "arr3=logspace(1,40,5)\n",
    "#5 values between 10 to power 0 and 10 to power 40 both inclusive\n",
    "\n",
    "arr4 = ones(5, int)\n",
    "print(arr4)\n",
    "\n",
    "arr5 = ones(5, float)\n",
    "print(arr5)\n",
    "\n",
    "arr6 = zeros(5, int)\n",
    "print(arr6)\n",
    "\n",
    "arr7 = arr6 + 5\n",
    "print(arr7)\n",
    "\n",
    "arr8 = arr5 + arr\n",
    "print(arr8)\n",
    "\n",
    "print(sqrt(arr8))\n",
    "print(sum(arr8))\n",
    "print(min(arr8))\n",
    "print(max(arr8))\n",
    "print(sort(arr8))\n",
    "\n",
    "#COPY A ARRAY\n",
    "\n",
    "arr9=arr8\n",
    "print(arr9)\n",
    "\n",
    "#address same for both array - point to same array\n",
    "\n",
    "print(id(arr8))\n",
    "\n",
    "print(id(arr9))\n",
    "\n",
    "#shallow copy\n",
    "arr10=arr8.view()\n",
    "print(id(arr10)) #same as id of arr8\n",
    "arr8[1] = 5\n",
    "print(arr10, arr8) #both value change\n",
    "\n",
    "#deep copy\n",
    "arr11=arr8.copy()\n",
    "print(id(arr11)) #same as id of arr8\n",
    "arr8[1] = 6\n",
    "print(arr11, arr8) #value change for only arr8\n",
    "\n"
   ]
  }
 ],
 "metadata": {
  "kernelspec": {
   "display_name": "Python 3",
   "language": "python",
   "name": "python3"
  },
  "language_info": {
   "codemirror_mode": {
    "name": "ipython",
    "version": 3
   },
   "file_extension": ".py",
   "mimetype": "text/x-python",
   "name": "python",
   "nbconvert_exporter": "python",
   "pygments_lexer": "ipython3",
   "version": "3.11.8"
  }
 },
 "nbformat": 4,
 "nbformat_minor": 2
}
