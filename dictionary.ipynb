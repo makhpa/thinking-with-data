{
 "cells": [
  {
   "cell_type": "code",
   "execution_count": 1,
   "metadata": {},
   "outputs": [
    {
     "name": "stdout",
     "output_type": "stream",
     "text": [
      "A piece of code that you can easily call over and over again.\n"
     ]
    }
   ],
   "source": [
    "#DEFINE A DICTIONARY\n",
    "programming_dictionary = {\n",
    "  \"Bug\": \"An error in a program that prevents the program from running as expected.\", \n",
    "  \"Function\": \"A piece of code that you can easily call over and over again.\",\n",
    "}\n",
    "\n",
    "#Retrieving items from dictionary.\n",
    "print(programming_dictionary[\"Function\"])"
   ]
  },
  {
   "cell_type": "code",
   "execution_count": 2,
   "metadata": {},
   "outputs": [
    {
     "name": "stdout",
     "output_type": "stream",
     "text": [
      "{'Bug': 'An error in a program that prevents the program from running as expected.', 'Function': 'A piece of code that you can easily call over and over again.', 'Loop': 'The action of doing something over and over again.'}\n"
     ]
    }
   ],
   "source": [
    "#Adding new items to dictionary.\n",
    "programming_dictionary[\"Loop\"] = \"The action of doing something over and over again.\"\n",
    "print(programming_dictionary)"
   ]
  },
  {
   "cell_type": "code",
   "execution_count": null,
   "metadata": {},
   "outputs": [],
   "source": [
    "#Wipe an existing dictionary\n",
    "#programming_dictionary = {}\n",
    "print(programming_dictionary)"
   ]
  },
  {
   "cell_type": "code",
   "execution_count": 3,
   "metadata": {},
   "outputs": [
    {
     "name": "stdout",
     "output_type": "stream",
     "text": [
      "{'Bug': 'A moth in your computer.', 'Function': 'A piece of code that you can easily call over and over again.', 'Loop': 'The action of doing something over and over again.'}\n"
     ]
    }
   ],
   "source": [
    "#Edit an item in a dictionary\n",
    "programming_dictionary[\"Bug\"] = \"A moth in your computer.\"\n",
    "print(programming_dictionary)"
   ]
  },
  {
   "cell_type": "code",
   "execution_count": 7,
   "metadata": {},
   "outputs": [
    {
     "name": "stdout",
     "output_type": "stream",
     "text": [
      "Bug\n",
      "Function\n",
      "Loop\n",
      "The action of doing something over and over again.\n"
     ]
    }
   ],
   "source": [
    "#Loop through a dictionary\n",
    "for key in programming_dictionary:\n",
    "    print(key)\n",
    "print(programming_dictionary[key])\n"
   ]
  }
 ],
 "metadata": {
  "kernelspec": {
   "display_name": "Python 3",
   "language": "python",
   "name": "python3"
  },
  "language_info": {
   "codemirror_mode": {
    "name": "ipython",
    "version": 3
   },
   "file_extension": ".py",
   "mimetype": "text/x-python",
   "name": "python",
   "nbconvert_exporter": "python",
   "pygments_lexer": "ipython3",
   "version": "3.11.9"
  }
 },
 "nbformat": 4,
 "nbformat_minor": 2
}
