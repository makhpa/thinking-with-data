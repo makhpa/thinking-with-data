{
  "cells": [
    {
      "cell_type": "markdown",
      "metadata": {
        "id": "view-in-github",
        "colab_type": "text"
      },
      "source": [
        "<a href=\"https://colab.research.google.com/github/makhpa/thinking-with-data/blob/main/varriables_and_data_types.ipynb\" target=\"_parent\"><img src=\"https://colab.research.google.com/assets/colab-badge.svg\" alt=\"Open In Colab\"/></a>"
      ]
    },
    {
      "cell_type": "code",
      "execution_count": null,
      "metadata": {
        "id": "NJztXfDDBS8S",
        "outputId": "903576aa-92bf-4cea-e1e9-0429bc6c17e8"
      },
      "outputs": [
        {
          "data": {
            "text/plain": [
              "5"
            ]
          },
          "execution_count": 1,
          "metadata": {},
          "output_type": "execute_result"
        }
      ],
      "source": [
        "2+3"
      ]
    },
    {
      "cell_type": "markdown",
      "metadata": {
        "id": "f2DhgKZTBS8a"
      },
      "source": [
        "INTEGER and STRINGS"
      ]
    },
    {
      "cell_type": "code",
      "execution_count": null,
      "metadata": {
        "id": "IejjGuVQBS8d",
        "outputId": "488b10cb-8392-40b7-b2cf-8b86e20cd916"
      },
      "outputs": [
        {
          "name": "stdout",
          "output_type": "stream",
          "text": [
            "parth\n"
          ]
        }
      ],
      "source": [
        "x=5\n",
        "y=6\n",
        "x+y\n",
        "names = \"parth\"\n",
        "names[1]\n",
        "print(names)\n"
      ]
    },
    {
      "cell_type": "markdown",
      "metadata": {
        "id": "-p13CJCHBS8e"
      },
      "source": [
        "LISTS\n"
      ]
    },
    {
      "cell_type": "code",
      "execution_count": null,
      "metadata": {
        "id": "-FtOKHfIBS8e",
        "outputId": "a6d06179-dca1-4dd0-975f-641b5bc79468"
      },
      "outputs": [
        {
          "name": "stdout",
          "output_type": "stream",
          "text": [
            "[5, 6, 7, 8, 8]\n",
            "parth\n",
            "parth\n",
            "parth\n",
            "[8, 8, 5]\n"
          ]
        }
      ],
      "source": [
        "nums= [5,6,7]\n",
        "nums\n",
        "nums.append(8)\n",
        "nums\n",
        "nums.count(5)\n",
        "nums.extend([8])\n",
        "print(nums)\n",
        "nums.index(7)\n",
        "nums.insert(6,9)\n",
        "nums\n",
        "del nums[1:3]\n",
        "nums\n",
        "len(nums)\n",
        "nums.pop()\n",
        "nums\n",
        "7 in nums\n",
        "for item in nums:\n",
        "    print (\"parth\")\n",
        "\n",
        "\n",
        "nums.sort()\n",
        "nums.reverse()\n",
        "print(nums)\n",
        "\n",
        "names = ['parth' 'nidhi']\n",
        "names"
      ]
    },
    {
      "cell_type": "markdown",
      "metadata": {
        "id": "y3D7ssejBS8h"
      },
      "source": [
        "TUPLES\n"
      ]
    },
    {
      "cell_type": "code",
      "execution_count": null,
      "metadata": {
        "id": "_-JybFCZBS8i",
        "outputId": "d6444ea8-50e2-4040-eb67-c7f2b10de461"
      },
      "outputs": [
        {
          "name": "stdout",
          "output_type": "stream",
          "text": [
            "<class 'tuple'>\n"
          ]
        },
        {
          "data": {
            "text/plain": [
              "5"
            ]
          },
          "execution_count": 40,
          "metadata": {},
          "output_type": "execute_result"
        }
      ],
      "source": [
        "tup = (5,6,7,8,9)\n",
        "tup\n",
        "print(type(tup)) # <class 'tuple'>\n",
        "tup.count(5)\n",
        "tup.index(6)\n",
        "tup.__contains__(8)\n",
        "len(tup)\n"
      ]
    },
    {
      "cell_type": "markdown",
      "metadata": {
        "id": "dvzj7PokBS8j"
      },
      "source": [
        "SETS"
      ]
    },
    {
      "cell_type": "code",
      "execution_count": null,
      "metadata": {
        "id": "pjLnW9OhBS8j",
        "outputId": "df1c3ffb-1743-4be7-a489-fd041201b383"
      },
      "outputs": [
        {
          "data": {
            "text/plain": [
              "{3, 4, 5, 6, 7}"
            ]
          },
          "execution_count": 53,
          "metadata": {},
          "output_type": "execute_result"
        }
      ],
      "source": [
        "set1 = {2,3,4,5,6,7}\n",
        "set\n",
        "set1.add(8)\n",
        "set1.remove(2)\n",
        "set2 = {1,2,3,4,5,6,7}\n",
        "set2 - set1\n",
        "set2|set1\n",
        "set1 & set2\n",
        "\n"
      ]
    }
  ],
  "metadata": {
    "kernelspec": {
      "display_name": "Python 3",
      "language": "python",
      "name": "python3"
    },
    "language_info": {
      "codemirror_mode": {
        "name": "ipython",
        "version": 3
      },
      "file_extension": ".py",
      "mimetype": "text/x-python",
      "name": "python",
      "nbconvert_exporter": "python",
      "pygments_lexer": "ipython3",
      "version": "3.11.7"
    },
    "colab": {
      "provenance": [],
      "include_colab_link": true
    }
  },
  "nbformat": 4,
  "nbformat_minor": 0
}