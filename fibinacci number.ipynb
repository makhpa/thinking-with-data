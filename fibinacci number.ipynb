{
 "cells": [
  {
   "cell_type": "code",
   "execution_count": 2,
   "metadata": {},
   "outputs": [
    {
     "name": "stdout",
     "output_type": "stream",
     "text": [
      "0\n",
      "1\n",
      "1\n",
      "2\n",
      "4\n",
      "8\n",
      "16\n",
      "32\n",
      "64\n"
     ]
    },
    {
     "data": {
      "text/plain": [
       "' This code defines a function called fib takes an integer n an argument. The function calculates and prints the first n numbers in the Fibonacci sequence\\n\\nThe Fibonacci sequence a series of numbers which each number is sum of the two preceding ones, usually starting with 0 1. In this code, the variable a is initialized to 0 andb` is initialized to 1, which represent the first two numbers in the sequence.\\n\\nThe function then checks if the input n is equal to 1. If it is, the function prints the first number in the sequence, which is 0.\\n\\nIf n is greater than 1, the function prints the first two numbers in the sequence, 0 and 1, and then enters a loop that runs from 2 to n-1. In each iteration of the loop, the function calculates the next number in the sequence by adding the two previous numbers (a and b), storing the result in the variable c, and then updating the values of a and b to be the last two numbers in the sequence. The function then prints the new value of c, which is the next number in the Fibonacci sequence.\\n\\nFor example, if the function is called with n=9, it will print the following sequence:\\n\\n0 1 1 2 3 5 8\\n\\nNote that there is a mistake in the code, in the line c=b, it should be a=c instead, to update the value of a with the sum of the previous two numbers. '"
      ]
     },
     "execution_count": 2,
     "metadata": {},
     "output_type": "execute_result"
    }
   ],
   "source": [
    "def fib(n):\n",
    "\n",
    "    a=0\n",
    "    b=1\n",
    "    if n==1:\n",
    "        print(a)\n",
    "    else:\n",
    "        print(a)\n",
    "        print(b)\n",
    "        for i in  range(2,n):\n",
    "            c = a+b\n",
    "            a=c\n",
    "            b=a\n",
    "            print(c)\n",
    "fib(9)\n",
    "\n",
    "\"\"\" This code defines a function called fib takes an integer n an argument. The function calculates and prints the first n numbers in the Fibonacci sequence\n",
    "\n",
    "The Fibonacci sequence a series of numbers which each number is sum of the two preceding ones, usually starting with 0 1. In this code, the variable a is initialized to 0 andb` is initialized to 1, which represent the first two numbers in the sequence.\n",
    "\n",
    "The function then checks if the input n is equal to 1. If it is, the function prints the first number in the sequence, which is 0.\n",
    "\n",
    "If n is greater than 1, the function prints the first two numbers in the sequence, 0 and 1, and then enters a loop that runs from 2 to n-1. In each iteration of the loop, the function calculates the next number in the sequence by adding the two previous numbers (a and b), storing the result in the variable c, and then updating the values of a and b to be the last two numbers in the sequence. The function then prints the new value of c, which is the next number in the Fibonacci sequence.\n",
    "\n",
    "For example, if the function is called with n=9, it will print the following sequence:\n",
    "\n",
    "0 1 1 2 3 5 8\n",
    "\n",
    "Note that there is a mistake in the code, in the line c=b, it should be a=c instead, to update the value of a with the sum of the previous two numbers. \"\"\""
   ]
  }
 ],
 "metadata": {
  "kernelspec": {
   "display_name": "Python 3",
   "language": "python",
   "name": "python3"
  },
  "language_info": {
   "codemirror_mode": {
    "name": "ipython",
    "version": 3
   },
   "file_extension": ".py",
   "mimetype": "text/x-python",
   "name": "python",
   "nbconvert_exporter": "python",
   "pygments_lexer": "ipython3",
   "version": "3.11.8"
  }
 },
 "nbformat": 4,
 "nbformat_minor": 2
}
