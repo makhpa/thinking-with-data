{
 "cells": [
  {
   "cell_type": "code",
   "execution_count": 3,
   "metadata": {},
   "outputs": [
    {
     "name": "stdout",
     "output_type": "stream",
     "text": [
      "would you like to coninue  playing? yes or no\n"
     ]
    },
    {
     "ename": "SyntaxError",
     "evalue": "'break' outside loop (3485539888.py, line 11)",
     "output_type": "error",
     "traceback": [
      "\u001b[1;36m  Cell \u001b[1;32mIn[3], line 11\u001b[1;36m\u001b[0m\n\u001b[1;33m    break\u001b[0m\n\u001b[1;37m    ^\u001b[0m\n\u001b[1;31mSyntaxError\u001b[0m\u001b[1;31m:\u001b[0m 'break' outside loop\n"
     ]
    }
   ],
   "source": [
    "#import clear\n",
    "name = input(\"Enter your name\")\n",
    "guess = int(input(\"Enter your Guess\"))\n",
    "print (\"would you like to coninue  playing? yes or no\")\n",
    "choice=input().lower()\n",
    "if choice == 'yes':\n",
    "    #clear\n",
    "    name = input(\"Enter your name\")\n",
    "    guess = int(input(\"Enter your Guess\"))\n",
    "else:\n",
    "    break\n",
    "\n",
    "print(name, guess)\n",
    "\n",
    "dict = {}\n"
   ]
  }
 ],
 "metadata": {
  "kernelspec": {
   "display_name": "Python 3",
   "language": "python",
   "name": "python3"
  },
  "language_info": {
   "codemirror_mode": {
    "name": "ipython",
    "version": 3
   },
   "file_extension": ".py",
   "mimetype": "text/x-python",
   "name": "python",
   "nbconvert_exporter": "python",
   "pygments_lexer": "ipython3",
   "version": "3.11.9"
  }
 },
 "nbformat": 4,
 "nbformat_minor": 2
}
