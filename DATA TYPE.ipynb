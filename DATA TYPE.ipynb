{
 "cells": [
  {
   "cell_type": "code",
   "execution_count": null,
   "metadata": {},
   "outputs": [],
   "source": []
  },
  {
   "cell_type": "markdown",
   "metadata": {},
   "source": [
    "DATA TYPES"
   ]
  },
  {
   "cell_type": "code",
   "execution_count": 3,
   "metadata": {},
   "outputs": [
    {
     "name": "stdout",
     "output_type": "stream",
     "text": [
      "<class 'int'>\n",
      "(5+6j)\n",
      "range(0, 10)\n",
      "{'parth': 'iphone 14', 'nidhi': 'iphone 12'}\n",
      "accessing value by key\n",
      "iphone 14\n",
      "checking if key is in dictionary or not\n",
      "true\n",
      "The age is 25\n",
      "{'name': 'John', 'age': 25, 'city': 'New York', 'country': 'USA'}\n",
      "dict_keys(['name', 'age', 'city', 'country'])\n",
      "dict_values(['John', 25, 'New York', 'USA'])\n",
      "It's a hot day on Tuesday!\n"
     ]
    }
   ],
   "source": [
    "a=5\n",
    "b=6\n",
    "print(type(a))\n",
    "float(a)\n",
    "c = complex(a,b)\n",
    "print (c)\n",
    "#list\n",
    "#tuple\n",
    "#set\n",
    "#string\n",
    "#range\n",
    "print(range(10))\n",
    "list(range(10))\n",
    "dict = {'parth': \"iphone 14\", 'nidhi': 'iphone 12'}\n",
    "print(dict)\n",
    "print(\"accessing value by key\")\n",
    "print(dict['parth'])\n",
    "print(\"checking if key is in dictionary or not\")\n",
    "if 'nidhi' in dict:\n",
    "        print('true')\n",
    "# Creating a dictionary\n",
    "my_dict = {'name': 'John', 'age': 25, 'city': 'New York'}\n",
    "\n",
    "# Checking if a key exists in the dictionary\n",
    "if 'age' in my_dict:\n",
    "    print(f\"The age is {my_dict['age']}\")\n",
    "else:\n",
    "    print(\"Age key not found.\")\n",
    "# Adding new entry to the dictionary\n",
    "my_dict[\"country\"]=\"USA\"\n",
    "print(my_dict)\n",
    "my_dict.keys\n",
    "print(my_dict.keys())\n",
    "print(my_dict.values())\n",
    "my_dict['name']\n",
    "\n",
    "\n",
    "# Creating a dictionary\n",
    "temperature = {'Monday': 28, 'Tuesday': 32, 'Wednesday': 30, 'Thursday': 25, 'Friday': 28}\n",
    "\n",
    "# Checking if the temperature on Tuesday is above 30 degrees\n",
    "if temperature['Tuesday'] > 30:\n",
    "    print(\"It's a hot day on Tuesday!\")\n",
    "else:\n",
    "    print(\"Tuesday's temperature is comfortable.\")\n"
   ]
  },
  {
   "cell_type": "code",
   "execution_count": null,
   "metadata": {},
   "outputs": [],
   "source": []
  },
  {
   "cell_type": "markdown",
   "metadata": {},
   "source": [
    "OPERATORS\n"
   ]
  }
 ],
 "metadata": {
  "kernelspec": {
   "display_name": "Python 3",
   "language": "python",
   "name": "python3"
  },
  "language_info": {
   "codemirror_mode": {
    "name": "ipython",
    "version": 3
   },
   "file_extension": ".py",
   "mimetype": "text/x-python",
   "name": "python",
   "nbconvert_exporter": "python",
   "pygments_lexer": "ipython3",
   "version": "3.11.7"
  }
 },
 "nbformat": 4,
 "nbformat_minor": 2
}
