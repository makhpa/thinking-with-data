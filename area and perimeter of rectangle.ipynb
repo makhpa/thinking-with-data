{
 "cells": [
  {
   "cell_type": "code",
   "execution_count": null,
   "metadata": {},
   "outputs": [],
   "source": [
    "len = int(input(\"Enter the length : \"))\n",
    "breadth = int(input(\"Enter the length : \"))\n",
    "area = (length  breadth\n",
    "perimeter = (length + breadth) * 2"
   ]
  }
 ],
 "metadata": {
  "language_info": {
   "name": "python"
  }
 },
 "nbformat": 4,
 "nbformat_minor": 2
}
